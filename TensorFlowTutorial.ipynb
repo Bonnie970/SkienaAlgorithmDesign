{
  "nbformat": 4,
  "nbformat_minor": 0,
  "metadata": {
    "colab": {
      "name": "TensorFlowTutorial.ipynb",
      "version": "0.3.2",
      "provenance": []
    },
    "kernelspec": {
      "name": "python3",
      "display_name": "Python 3"
    },
    "accelerator": "GPU"
  },
  "cells": [
    {
      "cell_type": "markdown",
      "metadata": {
        "id": "view-in-github",
        "colab_type": "text"
      },
      "source": [
        "[View in Colaboratory](https://colab.research.google.com/github/Bonnie970/SkienaAlgorithmDesign/blob/master/TensorFlowTutorial.ipynb)"
      ]
    },
    {
      "metadata": {
        "id": "2QtHi_GfM9HN",
        "colab_type": "code",
        "colab": {}
      },
      "cell_type": "code",
      "source": [
        "%matplotlib inline\n",
        "import matplotlib.pyplot as plt\n",
        "import tensorflow as tf\n",
        "import numpy as np\n",
        "from sklearn.metrics import confusion_matrix\n",
        "import time\n",
        "from datetime import timedelta\n",
        "import math"
      ],
      "execution_count": 0,
      "outputs": []
    },
    {
      "metadata": {
        "id": "ebQ69DVAutr8",
        "colab_type": "code",
        "colab": {
          "base_uri": "https://localhost:8080/",
          "height": 87
        },
        "outputId": "50ce1c98-51eb-4403-c4db-dfe1921e2a3e"
      },
      "cell_type": "code",
      "source": [
        "from tensorflow.examples.tutorials.mnist import input_data\n",
        "data = input_data.read_data_sets('data/MNIST/', one_hot=True)"
      ],
      "execution_count": 94,
      "outputs": [
        {
          "output_type": "stream",
          "text": [
            "Extracting data/MNIST/train-images-idx3-ubyte.gz\n",
            "Extracting data/MNIST/train-labels-idx1-ubyte.gz\n",
            "Extracting data/MNIST/t10k-images-idx3-ubyte.gz\n",
            "Extracting data/MNIST/t10k-labels-idx1-ubyte.gz\n"
          ],
          "name": "stdout"
        }
      ]
    },
    {
      "metadata": {
        "id": "pWln4i2MMzZW",
        "colab_type": "code",
        "colab": {
          "base_uri": "https://localhost:8080/",
          "height": 87
        },
        "outputId": "0fad48ad-2ce9-416a-b2c3-00050ce31ce0"
      },
      "cell_type": "code",
      "source": [
        "print(\"Size of:\")\n",
        "print(\"- Training-set:\\t\\t{}\".format(len(data.train.labels)))\n",
        "print(\"- Test-set:\\t\\t{}\".format(len(data.test.labels)))\n",
        "print(\"- Validation-set:\\t{}\".format(len(data.validation.labels)))"
      ],
      "execution_count": 95,
      "outputs": [
        {
          "output_type": "stream",
          "text": [
            "Size of:\n",
            "- Training-set:\t\t55000\n",
            "- Test-set:\t\t10000\n",
            "- Validation-set:\t5000\n"
          ],
          "name": "stdout"
        }
      ]
    },
    {
      "metadata": {
        "id": "GAPO333tM3XH",
        "colab_type": "code",
        "colab": {}
      },
      "cell_type": "code",
      "source": [
        "data.test.cls = np.argmax(data.test.labels, axis=1)"
      ],
      "execution_count": 0,
      "outputs": []
    },
    {
      "metadata": {
        "id": "HEhVNQeGNbfP",
        "colab_type": "code",
        "colab": {}
      },
      "cell_type": "code",
      "source": [
        "def plot_images(images, cls_true, cls_pred=None):\n",
        "    assert len(images) == len(cls_true) == 9\n",
        "    \n",
        "    # Create figure with 3x3 sub-plots.\n",
        "    fig, axes = plt.subplots(3, 3)\n",
        "    fig.subplots_adjust(hspace=0.3, wspace=0.3)\n",
        "\n",
        "    for i, ax in enumerate(axes.flat):\n",
        "        # Plot image.\n",
        "        ax.imshow(images[i].reshape(img_shape), cmap='binary')\n",
        "\n",
        "        # Show true and predicted classes.\n",
        "        if cls_pred is None:\n",
        "            xlabel = \"True: {0}\".format(cls_true[i])\n",
        "        else:\n",
        "            xlabel = \"True: {0}, Pred: {1}\".format(cls_true[i], cls_pred[i])\n",
        "\n",
        "        # Show the classes as the label on the x-axis.\n",
        "        ax.set_xlabel(xlabel)\n",
        "        \n",
        "        # Remove ticks from the plot.\n",
        "        ax.set_xticks([])\n",
        "        ax.set_yticks([])\n",
        "    \n",
        "    # Ensure the plot is shown correctly with multiple plots\n",
        "    # in a single Notebook cell.\n",
        "    plt.show()"
      ],
      "execution_count": 0,
      "outputs": []
    },
    {
      "metadata": {
        "id": "iQCFPmdxNchE",
        "colab_type": "code",
        "colab": {
          "base_uri": "https://localhost:8080/",
          "height": 262
        },
        "outputId": "042eb14a-45cc-469c-8074-d93cb593428d"
      },
      "cell_type": "code",
      "source": [
        "# Get the first images from the test-set.\n",
        "images = data.test.images[0:9]\n",
        "\n",
        "# Get the true classes for those images.\n",
        "cls_true = data.test.cls[0:9]\n",
        "\n",
        "# Plot the images and labels using our helper-function above.\n",
        "plot_images(images=images, cls_true=cls_true)"
      ],
      "execution_count": 98,
      "outputs": [
        {
          "output_type": "display_data",
          "data": {
            "image/png": "[encoded data removed]",
            "text/plain": [
              "<matplotlib.figure.Figure at 0x7f6d02815160>"
            ]
          },
          "metadata": {
            "tags": []
          }
        }
      ]
    },
    {
      "metadata": {
        "id": "d5H3VxI1NK-2",
        "colab_type": "code",
        "colab": {}
      },
      "cell_type": "code",
      "source": [
        "\n",
        "# We know that MNIST images are 28 pixels in each dimension.# We kn \n",
        "img_size = 28\n",
        "\n",
        "# Images are stored in one-dimensional arrays of this length.\n",
        "img_size_flat = img_size * img_size\n",
        "\n",
        "# Tuple with height and width of images used to reshape arrays.\n",
        "img_shape = (img_size, img_size)\n",
        "\n",
        "# Number of colour channels for the images: 1 channel for gray-scale.\n",
        "num_channels = 1\n",
        "\n",
        "# Number of classes, one class for each of 10 digits.\n",
        "num_classes = 10"
      ],
      "execution_count": 0,
      "outputs": []
    },
    {
      "metadata": {
        "id": "ID8mBhBBNk0a",
        "colab_type": "code",
        "colab": {}
      },
      "cell_type": "code",
      "source": [
        "def new_weights(shape):\n",
        "    # return A tensor of the specified shape filled with random truncated normal values\n",
        "    return tf.Variable(tf.truncated_normal(shape, stddev=0.05))"
      ],
      "execution_count": 0,
      "outputs": []
    },
    {
      "metadata": {
        "id": "UXAAGJ-fNlcV",
        "colab_type": "code",
        "colab": {}
      },
      "cell_type": "code",
      "source": [
        "def new_biases(length):\n",
        "    return tf.Variable(tf.constant(0.05, shape=[length]))"
      ],
      "execution_count": 0,
      "outputs": []
    },
    {
      "metadata": {
        "id": "m_oca9wcCiXQ",
        "colab_type": "code",
        "colab": {}
      },
      "cell_type": "code",
      "source": [
        "# wrap tf in a method to create covolutional layer \n",
        "def new_conv_layer(input,               # previous layer\n",
        "                  num_input_channels,   # num. channels in prev. layer \n",
        "                  filter_size,          # width, height of each filter\n",
        "                  num_filters,          # number of filter\n",
        "                  use_pooling=True):    \n",
        "  # shape of filter weight, defined by tensorflow\n",
        "  shape = [filter_size, filter_size, num_input_channels, num_filters] \n",
        "  \n",
        "  # create new weights\n",
        "  weights = new_weights(shape=shape)\n",
        "  \n",
        "  # bias, one for each filter \n",
        "  biases = new_biases(length=num_filters)\n",
        "  \n",
        "  # strdies[0]: image number and [3]: image channel always set to 1\n",
        "  # strides=[1, 2, 2, 1] would mean that the filter\n",
        "  # is moved 2 pixels across the x- and y-axis of the image.\n",
        "  layer = tf.nn.conv2d(input=input,\n",
        "                      filter=weights,\n",
        "                      strides=[1,1,1,1],\n",
        "                      padding='SAME')\n",
        "  \n",
        "  layer += biases\n",
        "  \n",
        "  if use_pooling:\n",
        "    layer = tf.nn.max_pool(value=layer,\n",
        "                           ksize=[1,2,2,1],\n",
        "                           strides=[1,2,2,1],\n",
        "                           padding='SAME')\n",
        "  \n",
        "  # ReLU\n",
        "  layer = tf.nn.relu(layer)\n",
        "  \n",
        "  return layer, weights"
      ],
      "execution_count": 0,
      "outputs": []
    },
    {
      "metadata": {
        "id": "2Qvt7J_MRHU4",
        "colab_type": "code",
        "colab": {}
      },
      "cell_type": "code",
      "source": [
        "# reduce 4-dim conv layer to 2-dim input to FC layer\n",
        "def flatten_layer(layer):\n",
        "  # get shape of input layer\n",
        "  # layer_shape == [num_images, img_height, img_width, num_channels]\n",
        "  layer_shape = layer.get_shape()\n",
        "  \n",
        "  # The number of features is: img_height * img_width * num_channels\n",
        "  # We can use a function from TensorFlow to calculate this.\n",
        "  num_features = layer_shape[1:4].num_elements()\n",
        "  \n",
        "  # set the size of the second dimension\n",
        "  # to num_features and the size of the first dimension to -1\n",
        "  # which means the size in that dimension is calculated\n",
        "  # so the total size of the tensor is unchanged from the reshaping.\n",
        "  layer_flat = tf.reshape(layer, [-1, num_features])\n",
        "  \n",
        "  # The shape of the flattened layer is now:\n",
        "  # [num_images, img_height * img_width * num_channels]\n",
        "\n",
        "  # Return both the flattened layer and the number of features.\n",
        "  return layer_flat, num_features"
      ],
      "execution_count": 0,
      "outputs": []
    },
    {
      "metadata": {
        "id": "cdprigW6TAi1",
        "colab_type": "code",
        "colab": {}
      },
      "cell_type": "code",
      "source": [
        "# input is a 2-dim tensor of shape [num_images, num_inputs]. \n",
        "# The output is a 2-dim tensor of shape [num_images, num_outputs]\n",
        "\n",
        "def new_fc_layer(input,\n",
        "                num_inputs,\n",
        "                num_outputs,\n",
        "                use_relu=True):\n",
        "  weights = new_weights(shape=[num_inputs, num_outputs])\n",
        "  biases = new_biases(length=num_outputs)\n",
        "  \n",
        "  # Calculate the layer as the matrix multiplication of\n",
        "  # the input and weights, and then add the bias-values.\n",
        "  layer = tf.matmul(input, weights) + biases\n",
        "  \n",
        "  if use_relu:\n",
        "    layer = tf.nn.relu(layer)\n",
        "    \n",
        "  return layer"
      ],
      "execution_count": 0,
      "outputs": []
    },
    {
      "metadata": {
        "id": "GnxzaqOEUu62",
        "colab_type": "code",
        "colab": {}
      },
      "cell_type": "code",
      "source": [
        "# place holder \n",
        "x = tf.placeholder(tf.float32, shape=[None, img_size_flat], name='x')\n",
        "\n",
        "# The convolutional layers expect x to be encoded as a 4-dim tensor \n",
        "# reshape to [num_images, img_height, img_width, num_channels]\n",
        "# Note that img_height == img_width == img_size \n",
        "# num_images can be inferred automatically by using -1 for the size of the first dimension\n",
        "x_img = tf.reshape(x, [-1, img_size, img_size, num_channels])\n",
        "\n",
        "# y size = num_image*10\n",
        "y_true = tf.placeholder(tf.float32, shape=[None, num_classes], name='y_true')\n",
        "\n",
        "y_true_cls = tf.argmax(y_true, axis=1)"
      ],
      "execution_count": 0,
      "outputs": []
    },
    {
      "metadata": {
        "id": "egCpEqjTWoHc",
        "colab_type": "code",
        "colab": {}
      },
      "cell_type": "code",
      "source": [
        "# CONFIGURATION\n",
        "# Convolutional Layer 1.\n",
        "filter_size1 = 5          # Convolution filters are 5 x 5 pixels.\n",
        "num_filters1 = 16         # There are 16 of these filters.\n",
        "\n",
        "# Convolutional Layer 2.\n",
        "filter_size2 = 5          # Convolution filters are 5 x 5 pixels.\n",
        "num_filters2 = 36         # There are 36 of these filters.\n",
        "\n",
        "# Fully-connected layer.\n",
        "fc_size = 128             # Number of neurons in fully-connected layer."
      ],
      "execution_count": 0,
      "outputs": []
    },
    {
      "metadata": {
        "id": "6_6CrYGJWLPv",
        "colab_type": "code",
        "colab": {}
      },
      "cell_type": "code",
      "source": [
        "# Conv 1 \n",
        "conv1, weights_conv1 = new_conv_layer(input=x_img,               # previous layer\n",
        "                                      num_input_channels=num_channels,   # num. channels in prev. layer \n",
        "                                      filter_size=filter_size1,          # width, height of each filter\n",
        "                                      num_filters=num_filters1,          # number of filter\n",
        "                                      use_pooling=True)"
      ],
      "execution_count": 0,
      "outputs": []
    },
    {
      "metadata": {
        "id": "QIMkHr68W813",
        "colab_type": "code",
        "colab": {
          "base_uri": "https://localhost:8080/",
          "height": 34
        },
        "outputId": "c7d1aeac-5a40-4506-82a6-577802df98a6"
      },
      "cell_type": "code",
      "source": [
        "# it is the output of conv1 -- check shape\n",
        "conv1"
      ],
      "execution_count": 108,
      "outputs": [
        {
          "output_type": "execute_result",
          "data": {
            "text/plain": [
              "<tf.Tensor 'Relu_7:0' shape=(?, 14, 14, 16) dtype=float32>"
            ]
          },
          "metadata": {
            "tags": []
          },
          "execution_count": 108
        }
      ]
    },
    {
      "metadata": {
        "id": "W3AAJh7qXdBi",
        "colab_type": "code",
        "colab": {
          "base_uri": "https://localhost:8080/",
          "height": 34
        },
        "outputId": "25859d02-82b3-4751-dfee-acb2d6727ebe"
      },
      "cell_type": "code",
      "source": [
        "int(conv1.shape[-1])"
      ],
      "execution_count": 109,
      "outputs": [
        {
          "output_type": "execute_result",
          "data": {
            "text/plain": [
              "16"
            ]
          },
          "metadata": {
            "tags": []
          },
          "execution_count": 109
        }
      ]
    },
    {
      "metadata": {
        "id": "LiwQ98t6XMFw",
        "colab_type": "code",
        "colab": {}
      },
      "cell_type": "code",
      "source": [
        "conv2, weights_conv2 = new_conv_layer(input=conv1,               # previous layer\n",
        "                                      num_input_channels=int(conv1.shape[-1]),#num_filters1,   # num. channels in prev. layer \n",
        "                                      filter_size=filter_size2,          # width, height of each filter\n",
        "                                      num_filters=num_filters2,          # number of filter\n",
        "                                      use_pooling=True)"
      ],
      "execution_count": 0,
      "outputs": []
    },
    {
      "metadata": {
        "id": "4gkIt6txXxk_",
        "colab_type": "code",
        "colab": {
          "base_uri": "https://localhost:8080/",
          "height": 34
        },
        "outputId": "81134a98-ea72-4da3-f739-5784c8257883"
      },
      "cell_type": "code",
      "source": [
        "conv2"
      ],
      "execution_count": 111,
      "outputs": [
        {
          "output_type": "execute_result",
          "data": {
            "text/plain": [
              "<tf.Tensor 'Relu_8:0' shape=(?, 7, 7, 36) dtype=float32>"
            ]
          },
          "metadata": {
            "tags": []
          },
          "execution_count": 111
        }
      ]
    },
    {
      "metadata": {
        "id": "nr1TZOVlYQx8",
        "colab_type": "code",
        "colab": {}
      },
      "cell_type": "code",
      "source": [
        "# flat conv2, feed to fully-connected layer\n",
        "conv2_flat, num_features = flatten_layer(conv2)"
      ],
      "execution_count": 0,
      "outputs": []
    },
    {
      "metadata": {
        "id": "PAZ5e3NLYqcC",
        "colab_type": "code",
        "colab": {
          "base_uri": "https://localhost:8080/",
          "height": 34
        },
        "outputId": "72652fd1-99ff-4c4c-a9a7-17503886fbcd"
      },
      "cell_type": "code",
      "source": [
        "conv2_flat"
      ],
      "execution_count": 113,
      "outputs": [
        {
          "output_type": "execute_result",
          "data": {
            "text/plain": [
              "<tf.Tensor 'Reshape_3:0' shape=(?, 1764) dtype=float32>"
            ]
          },
          "metadata": {
            "tags": []
          },
          "execution_count": 113
        }
      ]
    },
    {
      "metadata": {
        "id": "UVgCKyD6YztQ",
        "colab_type": "code",
        "colab": {}
      },
      "cell_type": "code",
      "source": [
        "# FC layer1 \n",
        "fc1 = new_fc_layer(input=conv2_flat,\n",
        "              num_inputs=num_features,\n",
        "              num_outputs=fc_size,\n",
        "              use_relu=True)"
      ],
      "execution_count": 0,
      "outputs": []
    },
    {
      "metadata": {
        "id": "iT6WDtNUZkuw",
        "colab_type": "code",
        "colab": {}
      },
      "cell_type": "code",
      "source": [
        "# output layer\n",
        "output = new_fc_layer(input=fc1,\n",
        "              num_inputs=fc_size,\n",
        "              num_outputs=num_classes,\n",
        "              use_relu=True)"
      ],
      "execution_count": 0,
      "outputs": []
    },
    {
      "metadata": {
        "id": "VRExOr27aAxq",
        "colab_type": "code",
        "colab": {
          "base_uri": "https://localhost:8080/",
          "height": 34
        },
        "outputId": "97b81ef5-4868-47d3-c076-d79241a6a553"
      },
      "cell_type": "code",
      "source": [
        "output"
      ],
      "execution_count": 116,
      "outputs": [
        {
          "output_type": "execute_result",
          "data": {
            "text/plain": [
              "<tf.Tensor 'Relu_10:0' shape=(?, 10) dtype=float32>"
            ]
          },
          "metadata": {
            "tags": []
          },
          "execution_count": 116
        }
      ]
    },
    {
      "metadata": {
        "id": "i3tdobIMalIT",
        "colab_type": "code",
        "colab": {}
      },
      "cell_type": "code",
      "source": [
        "# softmax -- regularization output class to between (0,1)\n",
        "y_pred = tf.nn.softmax(output)\n",
        "y_pred_cls = tf.argmax(y_pred, axis=1)"
      ],
      "execution_count": 0,
      "outputs": []
    },
    {
      "metadata": {
        "id": "favWsJjgbjY4",
        "colab_type": "text"
      },
      "cell_type": "markdown",
      "source": [
        "### Cross entropy\n",
        "cross-entropy is a performance measure used in classification. The cross-entropy is a continuous function that is always positive and if the predicted output of the model exactly matches the desired output then the cross-entropy equals zero. The goal of optimization is therefore to minimize the cross-entropy so it gets as close to zero as possible by changing the variables of the network layers."
      ]
    },
    {
      "metadata": {
        "id": "meHe96u6bgIx",
        "colab_type": "code",
        "colab": {}
      },
      "cell_type": "code",
      "source": [
        "cross_entropy = tf.nn.softmax_cross_entropy_with_logits(logits=output, \n",
        "                                                       labels=y_true)\n",
        "# In order to use the cross-entropy to guide the optimization of the model's \n",
        "# variables we need a single scalar value, so we simply take the average of \n",
        "# the cross-entropy for all the image classifications.\n",
        "cost = tf.reduce_mean(cross_entropy)\n"
      ],
      "execution_count": 0,
      "outputs": []
    },
    {
      "metadata": {
        "id": "axAii7dzcOfl",
        "colab_type": "code",
        "colab": {}
      },
      "cell_type": "code",
      "source": [
        "# optimizer\n",
        "optimizer = tf.train.AdamOptimizer(learning_rate=1e-4).minimize(cost)"
      ],
      "execution_count": 0,
      "outputs": []
    },
    {
      "metadata": {
        "id": "04Fkkpm9cfX-",
        "colab_type": "code",
        "colab": {}
      },
      "cell_type": "code",
      "source": [
        "# performance measurement\n",
        "# boolean vectore, 1 for correct\n",
        "correct_pred = tf.equal(y_pred_cls, y_true_cls)\n",
        "accuracy = tf.reduce_mean(tf.cast(correct_pred, tf.float32))"
      ],
      "execution_count": 0,
      "outputs": []
    },
    {
      "metadata": {
        "id": "kloCzGCQdZ-A",
        "colab_type": "text"
      },
      "cell_type": "markdown",
      "source": [
        "### Run TF"
      ]
    },
    {
      "metadata": {
        "id": "e2Usz5MHddCt",
        "colab_type": "code",
        "colab": {}
      },
      "cell_type": "code",
      "source": [
        "# create session\n",
        "session = tf.Session()\n",
        "\n",
        "# initial variables: weights and biases\n",
        "session.run(tf.global_variables_initializer())\n",
        "\n",
        "# batch size\n",
        "batch_size = 64\n",
        "\n",
        "total_iterations = 0 \n",
        "\n",
        "def run(num_iterations):\n",
        "  global total_iterations\n",
        "  \n",
        "  start_time = time.time()\n",
        "  \n",
        "  for i in range(total_iterations,\n",
        "                   total_iterations + num_iterations):\n",
        "    x_batch, y_true_batch = data.train.next_batch(batch_size)\n",
        "    # Put the batch into a dict with the proper names\n",
        "    # for placeholder variables in the TensorFlow graph.\n",
        "    feed_dict_train = {x: x_batch,\n",
        "                       y_true: y_true_batch}\n",
        "    \n",
        "    # Run the optimizer using this batch of training data.\n",
        "    # TensorFlow assigns the variables in feed_dict_train\n",
        "    # to the placeholder variables and then runs the optimizer.\n",
        "    session.run(optimizer, feed_dict=feed_dict_train)\n",
        "    \n",
        "    # Print status every 100 iterations.\n",
        "    if i % 100 == 0:\n",
        "        # Calculate the accuracy on the training-set.\n",
        "        acc = session.run(accuracy, feed_dict=feed_dict_train)\n",
        "\n",
        "        # Message for printing.\n",
        "        msg = \"Optimization Iteration: {0:>6}, Training Accuracy: {1:>6.1%}\"\n",
        "\n",
        "        # Print it.\n",
        "        print(msg.format(i + 1, acc))\n",
        "  \n",
        "  total_iterations += num_iterations\n",
        "\n",
        "  end_time = time.time()\n",
        "  time_dif = end_time - start_time\n",
        "  print(\"Time usage: \" + str(timedelta(seconds=int(round(time_dif)))))"
      ],
      "execution_count": 0,
      "outputs": []
    },
    {
      "metadata": {
        "id": "sQ_gg0gihmCK",
        "colab_type": "code",
        "colab": {
          "base_uri": "https://localhost:8080/",
          "height": 52
        },
        "outputId": "d6fe7c50-1f60-4721-c90f-8fcd19ff0ce6"
      },
      "cell_type": "code",
      "source": [
        "run(1)"
      ],
      "execution_count": 122,
      "outputs": [
        {
          "output_type": "stream",
          "text": [
            "Optimization Iteration:      1, Training Accuracy:   7.8%\n",
            "Time usage: 0:00:00\n"
          ],
          "name": "stdout"
        }
      ]
    },
    {
      "metadata": {
        "id": "ty_JAFHQkt2z",
        "colab_type": "code",
        "colab": {
          "base_uri": "https://localhost:8080/",
          "height": 52
        },
        "outputId": "68d20f94-35b8-4cfa-fe17-80964836ebbb"
      },
      "cell_type": "code",
      "source": [
        "run(100)"
      ],
      "execution_count": 123,
      "outputs": [
        {
          "output_type": "stream",
          "text": [
            "Optimization Iteration:    101, Training Accuracy:  67.2%\n",
            "Time usage: 0:00:01\n"
          ],
          "name": "stdout"
        }
      ]
    },
    {
      "metadata": {
        "id": "diF9jyEWk0Rx",
        "colab_type": "code",
        "colab": {
          "base_uri": "https://localhost:8080/",
          "height": 351
        },
        "outputId": "3bcef72b-95ab-45af-973e-5aa9eacfb5c5"
      },
      "cell_type": "code",
      "source": [
        "run(1899)"
      ],
      "execution_count": 124,
      "outputs": [
        {
          "output_type": "stream",
          "text": [
            "Optimization Iteration:    201, Training Accuracy:  71.9%\n",
            "Optimization Iteration:    301, Training Accuracy:  70.3%\n",
            "Optimization Iteration:    401, Training Accuracy:  85.9%\n",
            "Optimization Iteration:    501, Training Accuracy:  87.5%\n",
            "Optimization Iteration:    601, Training Accuracy:  82.8%\n",
            "Optimization Iteration:    701, Training Accuracy:  89.1%\n",
            "Optimization Iteration:    801, Training Accuracy:  85.9%\n",
            "Optimization Iteration:    901, Training Accuracy:  85.9%\n",
            "Optimization Iteration:   1001, Training Accuracy:  90.6%\n",
            "Optimization Iteration:   1101, Training Accuracy:  96.9%\n",
            "Optimization Iteration:   1201, Training Accuracy:  93.8%\n",
            "Optimization Iteration:   1301, Training Accuracy:  93.8%\n",
            "Optimization Iteration:   1401, Training Accuracy:  95.3%\n",
            "Optimization Iteration:   1501, Training Accuracy:  89.1%\n",
            "Optimization Iteration:   1601, Training Accuracy:  92.2%\n",
            "Optimization Iteration:   1701, Training Accuracy:  89.1%\n",
            "Optimization Iteration:   1801, Training Accuracy:  93.8%\n",
            "Optimization Iteration:   1901, Training Accuracy:  98.4%\n",
            "Time usage: 0:00:10\n"
          ],
          "name": "stdout"
        }
      ]
    },
    {
      "metadata": {
        "id": "e2Ouncrblnx8",
        "colab_type": "code",
        "colab": {
          "base_uri": "https://localhost:8080/",
          "height": 34
        },
        "outputId": "f39015fa-711f-4f5f-cb42-a9fcb609c251"
      },
      "cell_type": "code",
      "source": [
        "weights_conv1[:,:,0,0]"
      ],
      "execution_count": 125,
      "outputs": [
        {
          "output_type": "execute_result",
          "data": {
            "text/plain": [
              "<tf.Tensor 'strided_slice_3:0' shape=(5, 5) dtype=float32>"
            ]
          },
          "metadata": {
            "tags": []
          },
          "execution_count": 125
        }
      ]
    },
    {
      "metadata": {
        "id": "ipA_yXOBqitl",
        "colab_type": "code",
        "colab": {}
      },
      "cell_type": "code",
      "source": [
        "def plot_conv_layer(layer, image):\n",
        "    # Assume layer is a TensorFlow op that outputs a 4-dim tensor\n",
        "    # which is the output of a convolutional layer,\n",
        "    # e.g. layer_conv1 or layer_conv2.\n",
        "\n",
        "    # Create a feed-dict containing just one image.\n",
        "    # Note that we don't need to feed y_true because it is\n",
        "    # not used in this calculation.\n",
        "    feed_dict = {x: [image]}\n",
        "\n",
        "    # Calculate and retrieve the output values of the layer\n",
        "    # when inputting that image.\n",
        "    values = session.run(layer, feed_dict=feed_dict)\n",
        "\n",
        "    # Number of filters used in the conv. layer.\n",
        "    num_filters = values.shape[3]\n",
        "\n",
        "    # Number of grids to plot.\n",
        "    # Rounded-up, square-root of the number of filters.\n",
        "    num_grids = math.ceil(math.sqrt(num_filters))\n",
        "    \n",
        "    # Create figure with a grid of sub-plots.\n",
        "    fig, axes = plt.subplots(num_grids, num_grids)\n",
        "\n",
        "    # Plot the output images of all the filters.\n",
        "    for i, ax in enumerate(axes.flat):\n",
        "        # Only plot the images for valid filters.\n",
        "        if i<num_filters:\n",
        "            # Get the output image of using the i'th filter.\n",
        "            # See new_conv_layer() for details on the format\n",
        "            # of this 4-dim tensor.\n",
        "            img = values[0, :, :, i]\n",
        "\n",
        "            # Plot image.\n",
        "            ax.imshow(img, interpolation='nearest', cmap='binary')\n",
        "        \n",
        "        # Remove ticks from the plot.\n",
        "        ax.set_xticks([])\n",
        "        ax.set_yticks([])\n",
        "    \n",
        "    # Ensure the plot is shown correctly with multiple plots\n",
        "    # in a single Notebook cell.\n",
        "    plt.show()"
      ],
      "execution_count": 0,
      "outputs": []
    },
    {
      "metadata": {
        "id": "N4iNnbi4qlIZ",
        "colab_type": "code",
        "colab": {
          "base_uri": "https://localhost:8080/",
          "height": 248
        },
        "outputId": "324db79a-8fea-462c-e124-d5258316a722"
      },
      "cell_type": "code",
      "source": [
        "image = data.test.images[0]\n",
        "plot_conv_layer(conv1, image)"
      ],
      "execution_count": 127,
      "outputs": [
        {
          "output_type": "display_data",
          "data": {
            "image/png": "[encoded data removed]",
            "text/plain": [
              "<matplotlib.figure.Figure at 0x7f6d03c10a90>"
            ]
          },
          "metadata": {
            "tags": []
          }
        }
      ]
    },
    {
      "metadata": {
        "id": "eMDRXLq4q-ni",
        "colab_type": "code",
        "colab": {
          "base_uri": "https://localhost:8080/",
          "height": 248
        },
        "outputId": "3c84e981-eebd-4472-9079-84706b916a28"
      },
      "cell_type": "code",
      "source": [
        "plot_conv_layer(conv2, image)"
      ],
      "execution_count": 128,
      "outputs": [
        {
          "output_type": "display_data",
          "data": {
            "image/png": "[encoded data removed]",
            "text/plain": [
              "<matplotlib.figure.Figure at 0x7f6d03bdcbe0>"
            ]
          },
          "metadata": {
            "tags": []
          }
        }
      ]
    },
    {
      "metadata": {
        "id": "gSgthUb2rFmU",
        "colab_type": "code",
        "colab": {
          "base_uri": "https://localhost:8080/",
          "height": 248
        },
        "outputId": "1ddee037-8058-4d66-ed1e-9bf469ba8a49"
      },
      "cell_type": "code",
      "source": [
        "image = data.test.images[4]\n",
        "plot_conv_layer(conv1, image)"
      ],
      "execution_count": 129,
      "outputs": [
        {
          "output_type": "display_data",
          "data": {
            "image/png": "[encoded data removed]",
            "text/plain": [
              "<matplotlib.figure.Figure at 0x7f6d031c0940>"
            ]
          },
          "metadata": {
            "tags": []
          }
        }
      ]
    },
    {
      "metadata": {
        "id": "4sPSYiltrIpH",
        "colab_type": "code",
        "colab": {
          "base_uri": "https://localhost:8080/",
          "height": 248
        },
        "outputId": "c9d9ab35-31e0-4c4f-c8d1-6ae84b413695"
      },
      "cell_type": "code",
      "source": [
        "plot_conv_layer(conv2, image)"
      ],
      "execution_count": 130,
      "outputs": [
        {
          "output_type": "display_data",
          "data": {
            "image/png": "[encoded data removed]",
            "text/plain": [
              "<matplotlib.figure.Figure at 0x7f6d03497198>"
            ]
          },
          "metadata": {
            "tags": []
          }
        }
      ]
    },
    {
      "metadata": {
        "id": "Lmf-BNj3rNLC",
        "colab_type": "code",
        "colab": {}
      },
      "cell_type": "code",
      "source": [
        "def plot_conv_weights(weights, input_channel=0):\n",
        "    # Assume weights are TensorFlow ops for 4-dim variables\n",
        "    # e.g. weights_conv1 or weights_conv2.\n",
        "    \n",
        "    # Retrieve the values of the weight-variables from TensorFlow.\n",
        "    # A feed-dict is not necessary because nothing is calculated.\n",
        "    w = session.run(weights)\n",
        "\n",
        "    # Get the lowest and highest values for the weights.\n",
        "    # This is used to correct the colour intensity across\n",
        "    # the images so they can be compared with each other.\n",
        "    w_min = np.min(w)\n",
        "    w_max = np.max(w)\n",
        "\n",
        "    # Number of filters used in the conv. layer.\n",
        "    num_filters = w.shape[3]\n",
        "\n",
        "    # Number of grids to plot.\n",
        "    # Rounded-up, square-root of the number of filters.\n",
        "    num_grids = math.ceil(math.sqrt(num_filters))\n",
        "    \n",
        "    # Create figure with a grid of sub-plots.\n",
        "    fig, axes = plt.subplots(num_grids, num_grids)\n",
        "\n",
        "    # Plot all the filter-weights.\n",
        "    for i, ax in enumerate(axes.flat):\n",
        "        # Only plot the valid filter-weights.\n",
        "        if i<num_filters:\n",
        "            # Get the weights for the i'th filter of the input channel.\n",
        "            # See new_conv_layer() for details on the format\n",
        "            # of this 4-dim tensor.\n",
        "            img = w[:, :, input_channel, i]\n",
        "\n",
        "            # Plot image.\n",
        "            ax.imshow(img, vmin=w_min, vmax=w_max,\n",
        "                      interpolation='nearest', cmap='seismic')\n",
        "        \n",
        "        # Remove ticks from the plot.\n",
        "        ax.set_xticks([])\n",
        "        ax.set_yticks([])\n",
        "    \n",
        "    # Ensure the plot is shown correctly with multiple plots\n",
        "    # in a single Notebook cell.\n",
        "    plt.show()"
      ],
      "execution_count": 0,
      "outputs": []
    },
    {
      "metadata": {
        "id": "Z4gHoDg-r9kl",
        "colab_type": "code",
        "colab": {
          "base_uri": "https://localhost:8080/",
          "height": 248
        },
        "outputId": "0006d748-fd3b-4ae7-d528-0628cc180eeb"
      },
      "cell_type": "code",
      "source": [
        "plot_conv_weights(weights_conv1, input_channel=0)"
      ],
      "execution_count": 132,
      "outputs": [
        {
          "output_type": "display_data",
          "data": {
            "image/png": "[encoded data removed]",
            "text/plain": [
              "<matplotlib.figure.Figure at 0x7f6d027af0f0>"
            ]
          },
          "metadata": {
            "tags": []
          }
        }
      ]
    },
    {
      "metadata": {
        "id": "0fRRPtlhsT65",
        "colab_type": "code",
        "colab": {
          "base_uri": "https://localhost:8080/",
          "height": 248
        },
        "outputId": "cc3c4256-b230-494d-b1bb-1383c0164cf2"
      },
      "cell_type": "code",
      "source": [
        "plot_conv_weights(weights_conv2, input_channel=0)"
      ],
      "execution_count": 133,
      "outputs": [
        {
          "output_type": "display_data",
          "data": {
            "image/png": "[encoded data removed]",
            "text/plain": [
              "<matplotlib.figure.Figure at 0x7f6d03497160>"
            ]
          },
          "metadata": {
            "tags": []
          }
        }
      ]
    },
    {
      "metadata": {
        "id": "zl1LoX1BsYR0",
        "colab_type": "code",
        "colab": {
          "base_uri": "https://localhost:8080/",
          "height": 248
        },
        "outputId": "391fb8dc-19ac-4dba-8396-344c44bc0186"
      },
      "cell_type": "code",
      "source": [
        "# there are 16 channels in total\n",
        "plot_conv_weights(weights_conv2, input_channel=15)"
      ],
      "execution_count": 134,
      "outputs": [
        {
          "output_type": "display_data",
          "data": {
            "image/png": "[encoded data removed]",
            "text/plain": [
              "<matplotlib.figure.Figure at 0x7f6d02b11908>"
            ]
          },
          "metadata": {
            "tags": []
          }
        }
      ]
    },
    {
      "metadata": {
        "id": "Zh80bfoltCdJ",
        "colab_type": "code",
        "colab": {
          "base_uri": "https://localhost:8080/",
          "height": 34
        },
        "outputId": "a326ccd1-5da1-4e7a-d278-411d619db52d"
      },
      "cell_type": "code",
      "source": [
        "total_iterations"
      ],
      "execution_count": 135,
      "outputs": [
        {
          "output_type": "execute_result",
          "data": {
            "text/plain": [
              "2000"
            ]
          },
          "metadata": {
            "tags": []
          },
          "execution_count": 135
        }
      ]
    },
    {
      "metadata": {
        "id": "SNViYK2EtH4T",
        "colab_type": "code",
        "colab": {}
      },
      "cell_type": "code",
      "source": [
        "# session.close()"
      ],
      "execution_count": 0,
      "outputs": []
    }
  ]
}